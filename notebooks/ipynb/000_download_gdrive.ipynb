{
 "cells": [
  {
   "cell_type": "code",
   "execution_count": 1,
   "id": "90b3a045",
   "metadata": {},
   "outputs": [],
   "source": [
    "# pyright: reportAny=false, reportUnknownMemberType=false, reportMissingTypeStubs=false"
   ]
  },
  {
   "cell_type": "code",
   "execution_count": 2,
   "id": "e790c15a-9226-42cc-90ea-778b7c7c5a0d",
   "metadata": {},
   "outputs": [],
   "source": [
    "# | default_exp download"
   ]
  },
  {
   "cell_type": "markdown",
   "id": "d8c0f024",
   "metadata": {},
   "source": [
    "# Download files from google drive"
   ]
  },
  {
   "cell_type": "code",
   "execution_count": null,
   "id": "92a207da",
   "metadata": {},
   "outputs": [],
   "source": [
    "# | export\n",
    "\n",
    "from pathlib import Path\n",
    "\n",
    "import gdown\n",
    "from tqdm import tqdm\n",
    "\n",
    "from chirpminds.utils import parallel"
   ]
  },
  {
   "cell_type": "markdown",
   "id": "70f8c64c",
   "metadata": {},
   "source": [
    "## Create a file map"
   ]
  },
  {
   "cell_type": "code",
   "execution_count": null,
   "id": "de449c73",
   "metadata": {},
   "outputs": [],
   "source": [
    "output_dir = Path(\"../../scratch/raw_data/\")\n",
    "file_map = {\n",
    "    \"17s_dUURlA2mt12jIFpW5U60guCT4SveW\": str(output_dir.joinpath(\"20230114_F02A.MP4\")),\n",
    "    \"1qmDbnnaIOuem_SlIdiAFF_FkeloH8ywC\": str(output_dir.joinpath(\"20230203_F16A.MP4\")),\n",
    "    \"1mU4aWhU5dSYLtUUsiN0MYPy0DMzebmx_\": str(output_dir.joinpath(\"202301211_F11A.MP4\")),\n",
    "    \"1wtBxT0PqsJrcsIsZknDQRtkf3VN6LpR2\": str(output_dir.joinpath(\"20230215_F04A.MP4\")),\n",
    "    \"1be5q8pP7j0IpmHwZPeIq7M82ieyf8yoY\": str(output_dir.joinpath(\"20231002_F12A.MTS\")),\n",
    "    \"1m8zcJUPm0KANh9wHmp-leAZtdk9fMQ4Q\": str(output_dir.joinpath(\"20231004_F02A.MTS\")),\n",
    "    \"10pEQIVD5OT8rquqA1p8Az0spt-tlvaSC\": str(output_dir.joinpath(\"MVI0012.MP4\")),\n",
    "    \"1wn5Oe5Qbx7RVaV0VOOkbzPHhaTdKnuM2\": str(output_dir.joinpath(\"00000.MTS\")),\n",
    "}"
   ]
  },
  {
   "cell_type": "code",
   "execution_count": null,
   "id": "93755799",
   "metadata": {},
   "outputs": [],
   "source": [
    "# | export\n",
    "\n",
    "def download_file(file_name_list: list[str], file_map: dict[str, str], job_id: int) -> None:\n",
    "    for file_name in tqdm(file_name_list, position=job_id):\n",
    "        gdown.download(id=file_name, output=file_map[file_name])"
   ]
  },
  {
   "cell_type": "code",
   "execution_count": null,
   "id": "9c80f06e",
   "metadata": {
    "scrolled": true
   },
   "outputs": [],
   "source": [
    "parallel(list(file_map.keys()), download_file, [file_map])"
   ]
  },
  {
   "cell_type": "markdown",
   "id": "9811cf14",
   "metadata": {},
   "source": [
    "## Check downloaded files"
   ]
  },
  {
   "cell_type": "code",
   "execution_count": null,
   "id": "6e062821",
   "metadata": {},
   "outputs": [],
   "source": [
    "file_list = [file for file in output_dir.glob(\"*\")]\n",
    "print(file_list)"
   ]
  },
  {
   "cell_type": "code",
   "execution_count": 3,
   "id": "8b3aae7c-440d-48f2-9fff-e571baf352bd",
   "metadata": {},
   "outputs": [],
   "source": [
    "# | hide\n",
    "import nbdev  # noqa\n",
    "\n",
    "nbdev.nbdev_export()"
   ]
  },
  {
   "cell_type": "code",
   "execution_count": null,
   "id": "48e0bb1e-76e0-4c5f-ad41-4b94778bd95f",
   "metadata": {},
   "outputs": [],
   "source": []
  }
 ],
 "metadata": {
  "kernelspec": {
   "display_name": "Python 3 (ipykernel)",
   "language": "python",
   "name": "python3"
  },
  "language_info": {
   "codemirror_mode": {
    "name": "ipython",
    "version": 3
   },
   "file_extension": ".py",
   "mimetype": "text/x-python",
   "name": "python",
   "nbconvert_exporter": "python",
   "pygments_lexer": "ipython3",
   "version": "3.11.11"
  }
 },
 "nbformat": 4,
 "nbformat_minor": 5
}
