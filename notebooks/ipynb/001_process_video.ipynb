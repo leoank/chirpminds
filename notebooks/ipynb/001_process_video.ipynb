{
 "cells": [
  {
   "cell_type": "markdown",
   "id": "5372263c",
   "metadata": {},
   "source": [
    "# Process raw video files"
   ]
  },
  {
   "cell_type": "code",
   "execution_count": null,
   "id": "db435877",
   "metadata": {},
   "outputs": [],
   "source": [
    "# | default_exp process_video"
   ]
  },
  {
   "cell_type": "code",
   "execution_count": 1,
   "id": "bcefeb55",
   "metadata": {},
   "outputs": [],
   "source": [
    "# | export\n",
    "from pathlib import Path\n",
    "\n",
    "import ffmpeg\n",
    "import numpy as np\n",
    "from moviepy import VideoFileClip, concatenate_videoclips\n",
    "from tqdm import tqdm\n",
    "\n",
    "from chirpminds.utils import parallel"
   ]
  },
  {
   "cell_type": "markdown",
   "id": "ab79208f",
   "metadata": {},
   "source": [
    "## Read video files"
   ]
  },
  {
   "cell_type": "code",
   "execution_count": 3,
   "id": "9aae354e",
   "metadata": {},
   "outputs": [],
   "source": [
    "raw_data_dir = Path(\"../../scratch/raw_data\")\n",
    "clips_dir = Path(\"../../scratch/clips\")\n",
    "clips_dir.mkdir(exist_ok=True)\n",
    "frames_dir = Path(\"../../scratch/frames\")\n",
    "frames_dir.mkdir(exist_ok=True)\n",
    "file_list_mts = [file for file in raw_data_dir.glob(\"*.MTS\")]\n",
    "file_list_mp4 = [file for file in raw_data_dir.glob(\"*.MP4\")]"
   ]
  },
  {
   "cell_type": "markdown",
   "id": "9981cb38",
   "metadata": {},
   "source": [
    "## View video"
   ]
  },
  {
   "cell_type": "code",
   "execution_count": 4,
   "id": "52aedb63",
   "metadata": {
    "scrolled": true
   },
   "outputs": [
    {
     "name": "stderr",
     "output_type": "stream",
     "text": [
      "/home/ank/workspace/hub/leoank/chirpminds/main/.venv/lib/python3.11/site-packages/moviepy/video/io/ffmpeg_reader.py:517: UserWarning: Subtitle stream parsing is not supported by moviepy and will be ignored\n",
      "ffmpeg output:\n",
      "\n",
      "Input #0, mpegts, from '../../scratch/raw_data/20231002_F12A.MTS':\n",
      "  Duration: 00:17:13.22, start: 1.040000, bitrate: 16449 kb/s\n",
      "  Program 1 \n",
      "  Stream #0:0[0x1011]: Video: h264 (High) (HDMV / 0x564D4448), yuv420p(top first), 1920x1080 [SAR 1:1 DAR 16:9], 25 fps, 50 tbr, 90k tbn\n",
      "  Stream #0:1[0x1100]: Audio: ac3 (AC-3 / 0x332D4341), 48000 Hz, stereo, fltp, 256 kb/s\n",
      "  Stream #0:2[0x1200]: Subtitle: hdmv_pgs_subtitle (pgssub) ([144][0][0][0] / 0x0090), 1920x1080\n",
      "At least one output file must be specified\n",
      "\n",
      "  warnings.warn(\n"
     ]
    },
    {
     "name": "stdout",
     "output_type": "stream",
     "text": [
      "{'video_found': True, 'audio_found': True, 'metadata': {}, 'inputs': [{'streams': [{'input_number': 0, 'stream_number': 0, 'stream_type': 'video', 'language': None, 'default': True, 'size': [1920, 1080], 'bitrate': None, 'fps': 25.0, 'codec_name': 'h264', 'profile': '(High)'}, {'input_number': 0, 'stream_number': 1, 'stream_type': 'audio', 'language': None, 'default': False, 'fps': 48000, 'bitrate': 256}, {'input_number': 0, 'stream_number': 2, 'stream_type': 'subtitle', 'language': None, 'default': False}], 'input_number': 0}], 'duration': 1033.22, 'bitrate': 16449, 'start': 1.04, 'default_video_input_number': 0, 'default_video_stream_number': 0, 'video_codec_name': 'h264', 'video_profile': '(High)', 'video_size': [1920, 1080], 'video_bitrate': None, 'video_fps': 25.0, 'video_duration': 1033.22, 'video_n_frames': 25830, 'audio_bitrate': 256}\n",
      "/home/ank/workspace/hub/leoank/chirpminds/main/.venv/lib/python3.11/site-packages/imageio_ffmpeg/binaries/ffmpeg-linux-x86_64-v7.0.2 -i ../../scratch/raw_data/20231002_F12A.MTS -loglevel error -f image2pipe -vf scale=1920:1080 -sws_flags bicubic -pix_fmt rgb24 -vcodec rawvideo -\n"
     ]
    },
    {
     "name": "stderr",
     "output_type": "stream",
     "text": [
      "/home/ank/workspace/hub/leoank/chirpminds/main/.venv/lib/python3.11/site-packages/moviepy/video/io/ffmpeg_reader.py:517: UserWarning: Subtitle stream parsing is not supported by moviepy and will be ignored\n",
      "ffmpeg output:\n",
      "\n",
      "Input #0, mpegts, from '../../scratch/raw_data/20231004_F02A.MTS':\n",
      "  Duration: 00:10:39.84, start: 1.020000, bitrate: 26580 kb/s\n",
      "  Program 1 \n",
      "  Stream #0:0[0x1011]: Video: h264 (High) (HDPR / 0x52504448), yuv420p(progressive), 1920x1080 [SAR 1:1 DAR 16:9], 50 fps, 50 tbr, 90k tbn\n",
      "  Stream #0:1[0x1100]: Audio: ac3 (AC-3 / 0x332D4341), 48000 Hz, stereo, fltp, 256 kb/s\n",
      "  Stream #0:2[0x1200]: Subtitle: hdmv_pgs_subtitle (pgssub) ([144][0][0][0] / 0x0090), 1920x1080\n",
      "At least one output file must be specified\n",
      "\n",
      "  warnings.warn(\n",
      "/home/ank/workspace/hub/leoank/chirpminds/main/.venv/lib/python3.11/site-packages/moviepy/video/io/ffmpeg_reader.py:517: UserWarning: Subtitle stream parsing is not supported by moviepy and will be ignored\n",
      "ffmpeg output:\n",
      "\n",
      "Input #0, mpegts, from '../../scratch/raw_data/00000.MTS':\n",
      "  Duration: 00:10:39.84, start: 1.020000, bitrate: 26580 kb/s\n",
      "  Program 1 \n",
      "  Stream #0:0[0x1011]: Video: h264 (High) (HDPR / 0x52504448), yuv420p(progressive), 1920x1080 [SAR 1:1 DAR 16:9], 50 fps, 50 tbr, 90k tbn\n",
      "  Stream #0:1[0x1100]: Audio: ac3 (AC-3 / 0x332D4341), 48000 Hz, stereo, fltp, 256 kb/s\n",
      "  Stream #0:2[0x1200]: Subtitle: hdmv_pgs_subtitle (pgssub) ([144][0][0][0] / 0x0090), 1920x1080\n",
      "At least one output file must be specified\n",
      "\n",
      "  warnings.warn(\n"
     ]
    },
    {
     "name": "stdout",
     "output_type": "stream",
     "text": [
      "{'video_found': True, 'audio_found': True, 'metadata': {}, 'inputs': [{'streams': [{'input_number': 0, 'stream_number': 0, 'stream_type': 'video', 'language': None, 'default': True, 'size': [1920, 1080], 'bitrate': None, 'fps': 50.0, 'codec_name': 'h264', 'profile': '(High)'}, {'input_number': 0, 'stream_number': 1, 'stream_type': 'audio', 'language': None, 'default': False, 'fps': 48000, 'bitrate': 256}, {'input_number': 0, 'stream_number': 2, 'stream_type': 'subtitle', 'language': None, 'default': False}], 'input_number': 0}], 'duration': 639.84, 'bitrate': 26580, 'start': 1.02, 'default_video_input_number': 0, 'default_video_stream_number': 0, 'video_codec_name': 'h264', 'video_profile': '(High)', 'video_size': [1920, 1080], 'video_bitrate': None, 'video_fps': 50.0, 'video_duration': 639.84, 'video_n_frames': 31992, 'audio_bitrate': 256}\n",
      "/home/ank/workspace/hub/leoank/chirpminds/main/.venv/lib/python3.11/site-packages/imageio_ffmpeg/binaries/ffmpeg-linux-x86_64-v7.0.2 -i ../../scratch/raw_data/20231004_F02A.MTS -loglevel error -f image2pipe -vf scale=1920:1080 -sws_flags bicubic -pix_fmt rgb24 -vcodec rawvideo -\n",
      "{'video_found': True, 'audio_found': True, 'metadata': {}, 'inputs': [{'streams': [{'input_number': 0, 'stream_number': 0, 'stream_type': 'video', 'language': None, 'default': True, 'size': [1920, 1080], 'bitrate': None, 'fps': 50.0, 'codec_name': 'h264', 'profile': '(High)'}, {'input_number': 0, 'stream_number': 1, 'stream_type': 'audio', 'language': None, 'default': False, 'fps': 48000, 'bitrate': 256}, {'input_number': 0, 'stream_number': 2, 'stream_type': 'subtitle', 'language': None, 'default': False}], 'input_number': 0}], 'duration': 639.84, 'bitrate': 26580, 'start': 1.02, 'default_video_input_number': 0, 'default_video_stream_number': 0, 'video_codec_name': 'h264', 'video_profile': '(High)', 'video_size': [1920, 1080], 'video_bitrate': None, 'video_fps': 50.0, 'video_duration': 639.84, 'video_n_frames': 31992, 'audio_bitrate': 256}\n",
      "/home/ank/workspace/hub/leoank/chirpminds/main/.venv/lib/python3.11/site-packages/imageio_ffmpeg/binaries/ffmpeg-linux-x86_64-v7.0.2 -i ../../scratch/raw_data/00000.MTS -loglevel error -f image2pipe -vf scale=1920:1080 -sws_flags bicubic -pix_fmt rgb24 -vcodec rawvideo -\n"
     ]
    }
   ],
   "source": [
    "video_clip_1 = VideoFileClip(file_list_mts[0])\n",
    "video_clip_2 = VideoFileClip(file_list_mts[1])\n",
    "video_clip_3 = VideoFileClip(file_list_mts[2])"
   ]
  },
  {
   "cell_type": "code",
   "execution_count": null,
   "id": "0b7086f0",
   "metadata": {},
   "outputs": [],
   "source": [
    "video_clip_3.subclipped(600).display_in_notebook(\n",
    "    width=500, maxduration=300, fps=10, rd_kwargs=dict(bitrate=\"50k\")\n",
    ")"
   ]
  },
  {
   "cell_type": "markdown",
   "id": "afcbd245",
   "metadata": {},
   "source": [
    "## Make video clips"
   ]
  },
  {
   "cell_type": "code",
   "execution_count": 20,
   "id": "63312be3",
   "metadata": {},
   "outputs": [
    {
     "name": "stdout",
     "output_type": "stream",
     "text": [
      "MoviePy - Building video ../../scratch/clips/20231002_F12A.mp4.\n",
      "MoviePy - Writing video ../../scratch/clips/20231002_F12A.mp4\n",
      "\n"
     ]
    },
    {
     "name": "stderr",
     "output_type": "stream",
     "text": [
      "                                                                                                           "
     ]
    },
    {
     "name": "stdout",
     "output_type": "stream",
     "text": [
      "MoviePy - Done !\n",
      "MoviePy - video ready ../../scratch/clips/20231002_F12A.mp4\n"
     ]
    }
   ],
   "source": [
    "video_clip_1_clipped = video_clip_1.subclipped(800, 960)\n",
    "video_clip_1_clipped.write_videofile(\n",
    "    str(clips_dir.joinpath(file_list_mts[0].resolve().with_suffix(\".mp4\").name)),\n",
    "    audio=False,\n",
    "    write_logfile=True,\n",
    ")\n",
    "video_clip_1_clipped.close()"
   ]
  },
  {
   "cell_type": "code",
   "execution_count": 25,
   "id": "f136be46",
   "metadata": {},
   "outputs": [
    {
     "name": "stdout",
     "output_type": "stream",
     "text": [
      "Proc not detected\n",
      "{'video_found': True, 'audio_found': True, 'metadata': {}, 'inputs': [{'streams': [{'input_number': 0, 'stream_number': 0, 'stream_type': 'video', 'language': None, 'default': True, 'size': [1920, 1080], 'bitrate': None, 'fps': 50.0, 'codec_name': 'h264', 'profile': '(High)'}, {'input_number': 0, 'stream_number': 1, 'stream_type': 'audio', 'language': None, 'default': False, 'fps': 48000, 'bitrate': 256}, {'input_number': 0, 'stream_number': 2, 'stream_type': 'subtitle', 'language': None, 'default': False}], 'input_number': 0}], 'duration': 639.84, 'bitrate': 26580, 'start': 1.02, 'default_video_input_number': 0, 'default_video_stream_number': 0, 'video_codec_name': 'h264', 'video_profile': '(High)', 'video_size': [1920, 1080], 'video_bitrate': None, 'video_fps': 50.0, 'video_duration': 639.84, 'video_n_frames': 31992, 'audio_bitrate': 256}\n",
      "/home/ank/workspace/hub/leoank/chirpminds/main/.venv/lib/python3.11/site-packages/imageio_ffmpeg/binaries/ffmpeg-linux-x86_64-v7.0.2 -i ../../scratch/raw_data/20231004_F02A.MTS -loglevel error -f image2pipe -vf scale=1920:1080 -sws_flags bicubic -pix_fmt rgb24 -vcodec rawvideo -\n",
      "MoviePy - Building video ../../scratch/clips/20231004_F02A.mp4.\n",
      "MoviePy - Writing video ../../scratch/clips/20231004_F02A.mp4\n",
      "\n"
     ]
    },
    {
     "name": "stderr",
     "output_type": "stream",
     "text": [
      "                                                                                                           "
     ]
    },
    {
     "name": "stdout",
     "output_type": "stream",
     "text": [
      "MoviePy - Done !\n",
      "MoviePy - video ready ../../scratch/clips/20231004_F02A.mp4\n"
     ]
    }
   ],
   "source": [
    "video_clip_2_clipped = video_clip_2.subclipped(0, 200)\n",
    "video_clip_2_clipped.write_videofile(\n",
    "    str(clips_dir.joinpath(file_list_mts[1].resolve().with_suffix(\".mp4\").name)),\n",
    "    audio=False,\n",
    "    write_logfile=True,\n",
    ")\n",
    "video_clip_2_clipped.close()"
   ]
  },
  {
   "cell_type": "code",
   "execution_count": 30,
   "id": "ca55ef2e",
   "metadata": {},
   "outputs": [
    {
     "name": "stdout",
     "output_type": "stream",
     "text": [
      "{'video_found': True, 'audio_found': True, 'metadata': {}, 'inputs': [{'streams': [{'input_number': 0, 'stream_number': 0, 'stream_type': 'video', 'language': None, 'default': True, 'size': [1920, 1080], 'bitrate': None, 'fps': 50.0, 'codec_name': 'h264', 'profile': '(High)'}, {'input_number': 0, 'stream_number': 1, 'stream_type': 'audio', 'language': None, 'default': False, 'fps': 48000, 'bitrate': 256}, {'input_number': 0, 'stream_number': 2, 'stream_type': 'subtitle', 'language': None, 'default': False}], 'input_number': 0}], 'duration': 639.84, 'bitrate': 26580, 'start': 1.02, 'default_video_input_number': 0, 'default_video_stream_number': 0, 'video_codec_name': 'h264', 'video_profile': '(High)', 'video_size': [1920, 1080], 'video_bitrate': None, 'video_fps': 50.0, 'video_duration': 639.84, 'video_n_frames': 31992, 'audio_bitrate': 256}\n",
      "/home/ank/workspace/hub/leoank/chirpminds/main/.venv/lib/python3.11/site-packages/imageio_ffmpeg/binaries/ffmpeg-linux-x86_64-v7.0.2 -ss 119.000000 -i ../../scratch/raw_data/00000.MTS -ss 1.000000 -loglevel error -f image2pipe -vf scale=1920:1080 -sws_flags bicubic -pix_fmt rgb24 -vcodec rawvideo -\n",
      "MoviePy - Building video ../../scratch/clips/00000.mp4.\n",
      "MoviePy - Writing video ../../scratch/clips/00000.mp4\n",
      "\n"
     ]
    },
    {
     "name": "stderr",
     "output_type": "stream",
     "text": [
      "                                                                                                           "
     ]
    },
    {
     "name": "stdout",
     "output_type": "stream",
     "text": [
      "MoviePy - Done !\n",
      "MoviePy - video ready ../../scratch/clips/00000.mp4\n"
     ]
    }
   ],
   "source": [
    "video_clip_3_concat = video_clip_3.subclipped(120, 190)\n",
    "video_clip_3_concat.write_videofile(\n",
    "    str(clips_dir.joinpath(file_list_mts[2].resolve().with_suffix(\".mp4\").name)),\n",
    "    audio=False,\n",
    "    write_logfile=True,\n",
    ")\n",
    "video_clip_3_concat.close()"
   ]
  },
  {
   "cell_type": "code",
   "execution_count": 10,
   "id": "2e61a662",
   "metadata": {
    "lines_to_next_cell": 2
   },
   "outputs": [],
   "source": [
    "# | export\n",
    "def get_video_info(video_path: Path) -> dict:\n",
    "    probe = ffmpeg.probe(video_path.resolve().__str__())\n",
    "    return next(s for s in probe[\"streams\"] if s[\"codec_type\"] == \"video\")"
   ]
  },
  {
   "cell_type": "markdown",
   "id": "8dc7f746",
   "metadata": {
    "lines_to_next_cell": 2
   },
   "source": [
    " ## Process video files"
   ]
  },
  {
   "cell_type": "code",
   "execution_count": 11,
   "id": "e408edc5",
   "metadata": {
    "lines_to_next_cell": 2
   },
   "outputs": [],
   "source": [
    "# | export\n",
    "def extract_frame(\n",
    "    start_time_list: list[str],\n",
    "    file_path: Path,\n",
    "    out_dir: Path,\n",
    "    quiet: bool = False,\n",
    "    job_idx: int = 0,\n",
    ") -> None:\n",
    "    for start_time in start_time_list:\n",
    "        ffmpeg.input(str(file_path.resolve()), ss=start_time).output(\n",
    "            str(out_dir.resolve() / f\"{file_path.stem}_{start_time}.jpg\"), vframes=1\n",
    "        ).run(overwrite_output=True, quiet=quiet)"
   ]
  },
  {
   "cell_type": "code",
   "execution_count": 40,
   "id": "7cd5ae85",
   "metadata": {},
   "outputs": [],
   "source": [
    "# | export\n",
    "\n",
    "\n",
    "def extract_frames(\n",
    "    video_path_list: list[Path],\n",
    "    num_frames: int,\n",
    "    out_dir: Path,\n",
    "    quiet: bool = False,\n",
    "    job_idx: int = 0,\n",
    ") -> None:\n",
    "    for video in tqdm(video_path_list, position=job_idx):\n",
    "        print(f\"Processing {video}\")\n",
    "        video_info = get_video_info(video)\n",
    "        sampled_start_times = np.linspace(\n",
    "            0, round(float(video_info[\"duration\"])), num_frames + 1, dtype=np.int32\n",
    "        )\n",
    "        parallel(\n",
    "            sampled_start_times[:-1].tolist(), extract_frame, [video, out_dir, quiet]\n",
    "        )"
   ]
  },
  {
   "cell_type": "markdown",
   "id": "556c659c",
   "metadata": {},
   "source": [
    "## Process clips"
   ]
  },
  {
   "cell_type": "code",
   "execution_count": 36,
   "id": "1ce3ade9",
   "metadata": {},
   "outputs": [
    {
     "data": {
      "text/plain": [
       "[PosixPath('../../scratch/clips/00000.mp4'),\n",
       " PosixPath('../../scratch/clips/20231004_F02A.mp4'),\n",
       " PosixPath('../../scratch/clips/20231002_F12A.mp4')]"
      ]
     },
     "execution_count": 36,
     "metadata": {},
     "output_type": "execute_result"
    }
   ],
   "source": [
    "clips = [file for file in clips_dir.glob(\"*.mp4\")]\n",
    "clips"
   ]
  },
  {
   "cell_type": "code",
   "execution_count": 37,
   "id": "1e1a2727-a670-44f9-8798-bc5ca3f0a0a1",
   "metadata": {
    "scrolled": true
   },
   "outputs": [
    {
     "data": {
      "text/plain": [
       "{'index': 0,\n",
       " 'codec_name': 'h264',\n",
       " 'codec_long_name': 'H.264 / AVC / MPEG-4 AVC / MPEG-4 part 10',\n",
       " 'profile': 'High',\n",
       " 'codec_type': 'video',\n",
       " 'codec_tag_string': 'avc1',\n",
       " 'codec_tag': '0x31637661',\n",
       " 'width': 1920,\n",
       " 'height': 1080,\n",
       " 'coded_width': 1920,\n",
       " 'coded_height': 1080,\n",
       " 'closed_captions': 0,\n",
       " 'film_grain': 0,\n",
       " 'has_b_frames': 2,\n",
       " 'pix_fmt': 'yuv420p',\n",
       " 'level': 40,\n",
       " 'chroma_location': 'left',\n",
       " 'field_order': 'progressive',\n",
       " 'refs': 1,\n",
       " 'is_avc': 'true',\n",
       " 'nal_length_size': '4',\n",
       " 'id': '0x1',\n",
       " 'r_frame_rate': '25/1',\n",
       " 'avg_frame_rate': '25/1',\n",
       " 'time_base': '1/12800',\n",
       " 'start_pts': 0,\n",
       " 'start_time': '0.000000',\n",
       " 'duration_ts': 2048000,\n",
       " 'duration': '160.000000',\n",
       " 'bit_rate': '2704228',\n",
       " 'bits_per_raw_sample': '8',\n",
       " 'nb_frames': '4000',\n",
       " 'extradata_size': 47,\n",
       " 'disposition': {'default': 1,\n",
       "  'dub': 0,\n",
       "  'original': 0,\n",
       "  'comment': 0,\n",
       "  'lyrics': 0,\n",
       "  'karaoke': 0,\n",
       "  'forced': 0,\n",
       "  'hearing_impaired': 0,\n",
       "  'visual_impaired': 0,\n",
       "  'clean_effects': 0,\n",
       "  'attached_pic': 0,\n",
       "  'timed_thumbnails': 0,\n",
       "  'non_diegetic': 0,\n",
       "  'captions': 0,\n",
       "  'descriptions': 0,\n",
       "  'metadata': 0,\n",
       "  'dependent': 0,\n",
       "  'still_image': 0,\n",
       "  'multilayer': 0},\n",
       " 'tags': {'language': 'und',\n",
       "  'handler_name': 'VideoHandler',\n",
       "  'vendor_id': '[0][0][0][0]',\n",
       "  'encoder': 'Lavc61.3.100 libx264'}}"
      ]
     },
     "execution_count": 37,
     "metadata": {},
     "output_type": "execute_result"
    }
   ],
   "source": [
    "get_video_info(clips[2])"
   ]
  },
  {
   "cell_type": "code",
   "execution_count": 39,
   "id": "38ce9d02",
   "metadata": {
    "lines_to_next_cell": 2
   },
   "outputs": [
    {
     "name": "stderr",
     "output_type": "stream",
     "text": [
      "  0%|                                                                                | 0/3 [00:00<?, ?it/s]"
     ]
    },
    {
     "name": "stdout",
     "output_type": "stream",
     "text": [
      "Processing ../../scratch/clips/00000.mp4\n"
     ]
    },
    {
     "name": "stderr",
     "output_type": "stream",
     "text": [
      " 33%|████████████████████████                                                | 1/3 [00:11<00:23, 11.56s/it]"
     ]
    },
    {
     "name": "stdout",
     "output_type": "stream",
     "text": [
      "Processing ../../scratch/clips/20231004_F02A.mp4\n"
     ]
    },
    {
     "name": "stderr",
     "output_type": "stream",
     "text": [
      " 67%|████████████████████████████████████████████████                        | 2/3 [00:23<00:11, 11.77s/it]"
     ]
    },
    {
     "name": "stdout",
     "output_type": "stream",
     "text": [
      "Processing ../../scratch/clips/20231002_F12A.mp4\n"
     ]
    },
    {
     "name": "stderr",
     "output_type": "stream",
     "text": [
      "100%|████████████████████████████████████████████████████████████████████████| 3/3 [00:35<00:00, 11.68s/it]\n"
     ]
    }
   ],
   "source": [
    "# Change the number of jobs to 2.\n",
    "# More number of threads tries to write to the same file and crash\n",
    "extract_frames(clips, 133, frames_dir, True)"
   ]
  },
  {
   "cell_type": "markdown",
   "id": "6aa57615",
   "metadata": {},
   "source": [
    "## Process full videos"
   ]
  },
  {
   "cell_type": "code",
   "execution_count": 41,
   "id": "c8fdd68f",
   "metadata": {},
   "outputs": [
    {
     "name": "stderr",
     "output_type": "stream",
     "text": [
      "  0%|                                                                                | 0/5 [00:00<?, ?it/s]"
     ]
    },
    {
     "name": "stdout",
     "output_type": "stream",
     "text": [
      "Processing ../../scratch/raw_data/20230114_F02A.MP4\n"
     ]
    },
    {
     "name": "stderr",
     "output_type": "stream",
     "text": [
      " 20%|██████████████▍                                                         | 1/5 [00:01<00:05,  1.45s/it]"
     ]
    },
    {
     "name": "stdout",
     "output_type": "stream",
     "text": [
      "Processing ../../scratch/raw_data/MVI0012.MP4\n"
     ]
    },
    {
     "name": "stderr",
     "output_type": "stream",
     "text": [
      " 40%|████████████████████████████▊                                           | 2/5 [00:02<00:03,  1.13s/it]"
     ]
    },
    {
     "name": "stdout",
     "output_type": "stream",
     "text": [
      "Processing ../../scratch/raw_data/20230215_F04A.MP4\n"
     ]
    },
    {
     "name": "stderr",
     "output_type": "stream",
     "text": [
      " 60%|███████████████████████████████████████████▏                            | 3/5 [00:03<00:02,  1.02s/it]"
     ]
    },
    {
     "name": "stdout",
     "output_type": "stream",
     "text": [
      "Processing ../../scratch/raw_data/202301211_F11A.MP4\n"
     ]
    },
    {
     "name": "stderr",
     "output_type": "stream",
     "text": [
      " 80%|█████████████████████████████████████████████████████████▌              | 4/5 [00:04<00:00,  1.02it/s]"
     ]
    },
    {
     "name": "stdout",
     "output_type": "stream",
     "text": [
      "Processing ../../scratch/raw_data/20230203_F16A.MP4\n"
     ]
    },
    {
     "name": "stderr",
     "output_type": "stream",
     "text": [
      "100%|████████████████████████████████████████████████████████████████████████| 5/5 [00:05<00:00,  1.01s/it]\n"
     ]
    }
   ],
   "source": [
    "extract_frames(file_list_mp4, 80, frames_dir, True)"
   ]
  },
  {
   "cell_type": "markdown",
   "id": "7f00e37c",
   "metadata": {},
   "source": [
    "## View sampled frames"
   ]
  },
  {
   "cell_type": "code",
   "execution_count": 42,
   "id": "c77e4370",
   "metadata": {},
   "outputs": [],
   "source": [
    "# | hide\n",
    "import nbdev  # noqa\n",
    "\n",
    "nbdev.nbdev_export()"
   ]
  }
 ],
 "metadata": {
  "kernelspec": {
   "display_name": "Python 3 (ipykernel)",
   "language": "python",
   "name": "python3"
  },
  "language_info": {
   "codemirror_mode": {
    "name": "ipython",
    "version": 3
   },
   "file_extension": ".py",
   "mimetype": "text/x-python",
   "name": "python",
   "nbconvert_exporter": "python",
   "pygments_lexer": "ipython3",
   "version": "3.11.11"
  }
 },
 "nbformat": 4,
 "nbformat_minor": 5
}
