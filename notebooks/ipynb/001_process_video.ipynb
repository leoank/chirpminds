{
 "cells": [
  {
   "cell_type": "markdown",
   "id": "5c980c52",
   "metadata": {},
   "source": [
    "# Process raw video files"
   ]
  },
  {
   "cell_type": "code",
   "execution_count": 1,
   "id": "41e216d9",
   "metadata": {},
   "outputs": [],
   "source": [
    "# | default_exp process_video"
   ]
  },
  {
   "cell_type": "code",
   "execution_count": 2,
   "id": "f2f5f60f",
   "metadata": {},
   "outputs": [],
   "source": [
    "# | export\n",
    "from pathlib import Path\n",
    "\n",
    "import ffmpeg\n",
    "import numpy as np\n",
    "from tqdm import tqdm\n",
    "\n",
    "from chirpminds.utils import parallel"
   ]
  },
  {
   "cell_type": "markdown",
   "id": "898b6330",
   "metadata": {},
   "source": [
    "## Read video files"
   ]
  },
  {
   "cell_type": "code",
   "execution_count": 13,
   "id": "68aca54c",
   "metadata": {},
   "outputs": [],
   "source": [
    "raw_data_dir = Path(\"../../scratch/raw_data\")\n",
    "frames_dir = Path(\"../../scratch/frames\")\n",
    "frames_dir.mkdir(exist_ok=True)\n",
    "file_list_mts = [file for file in raw_data_dir.glob(\"*.MTS\")]\n",
    "file_list_mp4 = [file for file in raw_data_dir.glob(\"*.MP4\")]"
   ]
  },
  {
   "cell_type": "code",
   "execution_count": 16,
   "id": "0b8ebe01-8451-49f6-a6c3-f9570502e77a",
   "metadata": {},
   "outputs": [
    {
     "data": {
      "text/plain": [
       "[PosixPath('../../scratch/raw_data/00000.MTS'),\n",
       " PosixPath('../../scratch/raw_data/20230114_F02A.MP4'),\n",
       " PosixPath('../../scratch/raw_data/MVI0012.MP4'),\n",
       " PosixPath('../../scratch/raw_data/20230215_F04A.MP4'),\n",
       " PosixPath('../../scratch/raw_data/202301211_F11A.MP4'),\n",
       " PosixPath('../../scratch/raw_data/20230203_F16A.MP4')]"
      ]
     },
     "execution_count": 16,
     "metadata": {},
     "output_type": "execute_result"
    }
   ],
   "source": [
    "[file_list_mts[-1]] + file_list_mp4 "
   ]
  },
  {
   "cell_type": "code",
   "execution_count": 5,
   "id": "f6a4d52d",
   "metadata": {},
   "outputs": [],
   "source": [
    "# | export\n",
    "def get_video_info(video_path: Path) -> dict:\n",
    "    probe = ffmpeg.probe(video_path.resolve().__str__())\n",
    "    return next(s for s in probe[\"streams\"] if s[\"codec_type\"] == \"video\")"
   ]
  },
  {
   "cell_type": "code",
   "execution_count": 6,
   "id": "ca8be2e9-1c63-4573-be10-a8660bee6cc0",
   "metadata": {
    "scrolled": true
   },
   "outputs": [
    {
     "data": {
      "text/plain": [
       "{'index': 0,\n",
       " 'codec_name': 'h264',\n",
       " 'codec_long_name': 'H.264 / AVC / MPEG-4 AVC / MPEG-4 part 10',\n",
       " 'profile': 'High',\n",
       " 'codec_type': 'video',\n",
       " 'codec_tag_string': 'avc1',\n",
       " 'codec_tag': '0x31637661',\n",
       " 'width': 1920,\n",
       " 'height': 1080,\n",
       " 'coded_width': 1920,\n",
       " 'coded_height': 1080,\n",
       " 'closed_captions': 0,\n",
       " 'film_grain': 0,\n",
       " 'has_b_frames': 1,\n",
       " 'pix_fmt': 'yuv420p',\n",
       " 'level': 40,\n",
       " 'color_range': 'tv',\n",
       " 'color_space': 'bt709',\n",
       " 'color_transfer': 'bt709',\n",
       " 'color_primaries': 'bt709',\n",
       " 'chroma_location': 'left',\n",
       " 'field_order': 'progressive',\n",
       " 'refs': 1,\n",
       " 'is_avc': 'true',\n",
       " 'nal_length_size': '4',\n",
       " 'id': '0x1',\n",
       " 'r_frame_rate': '30000/1001',\n",
       " 'avg_frame_rate': '30000/1001',\n",
       " 'time_base': '1/30000',\n",
       " 'start_pts': 0,\n",
       " 'start_time': '0.000000',\n",
       " 'duration_ts': 61951890,\n",
       " 'duration': '2065.063000',\n",
       " 'bit_rate': '16188349',\n",
       " 'bits_per_raw_sample': '8',\n",
       " 'nb_frames': '61890',\n",
       " 'extradata_size': 67,\n",
       " 'disposition': {'default': 1,\n",
       "  'dub': 0,\n",
       "  'original': 0,\n",
       "  'comment': 0,\n",
       "  'lyrics': 0,\n",
       "  'karaoke': 0,\n",
       "  'forced': 0,\n",
       "  'hearing_impaired': 0,\n",
       "  'visual_impaired': 0,\n",
       "  'clean_effects': 0,\n",
       "  'attached_pic': 0,\n",
       "  'timed_thumbnails': 0,\n",
       "  'non_diegetic': 0,\n",
       "  'captions': 0,\n",
       "  'descriptions': 0,\n",
       "  'metadata': 0,\n",
       "  'dependent': 0,\n",
       "  'still_image': 0,\n",
       "  'multilayer': 0},\n",
       " 'tags': {'creation_time': '2023-01-15T01:25:05.000000Z',\n",
       "  'language': 'eng',\n",
       "  'vendor_id': '[0][0][0][0]'}}"
      ]
     },
     "execution_count": 6,
     "metadata": {},
     "output_type": "execute_result"
    }
   ],
   "source": [
    "get_video_info(file_list[1])"
   ]
  },
  {
   "cell_type": "markdown",
   "id": "1a15f485",
   "metadata": {
    "lines_to_next_cell": 2
   },
   "source": [
    " ## Process video files"
   ]
  },
  {
   "cell_type": "code",
   "execution_count": 17,
   "id": "0164431a",
   "metadata": {
    "lines_to_next_cell": 2
   },
   "outputs": [],
   "source": [
    "# | export\n",
    "def extract_frame(\n",
    "    start_time_list: list[str], file_path: Path, out_dir: Path, job_idx: int = 0\n",
    ") -> None:\n",
    "    for start_time in start_time_list:\n",
    "        ffmpeg.input(str(file_path.resolve()), ss=start_time).output(\n",
    "            str(out_dir.resolve() / f\"{file_path.stem}_{start_time}.jpg\"), vframes=1\n",
    "        ).run()"
   ]
  },
  {
   "cell_type": "code",
   "execution_count": 18,
   "id": "e5dccbaa",
   "metadata": {},
   "outputs": [],
   "source": [
    "# | export\n",
    "\n",
    "\n",
    "def extract_frames(\n",
    "    video_path_list: list[Path], num_frames: int, out_dir: Path, job_idx: int = 0\n",
    ") -> None:\n",
    "    for video in tqdm(video_path_list, position=job_idx):\n",
    "        print(f\"Processing {video}\")\n",
    "        video_info = get_video_info(video)\n",
    "        sampled_start_times = np.linspace(\n",
    "            0, round(float(video_info[\"duration\"])), num_frames, dtype=np.int32\n",
    "        )\n",
    "        parallel(sampled_start_times.tolist(), extract_frame, [video, out_dir])"
   ]
  },
  {
   "cell_type": "code",
   "execution_count": null,
   "id": "1c0b4681-f906-48db-adc5-70b6ade7326f",
   "metadata": {
    "lines_to_next_cell": 2,
    "scrolled": true
   },
   "outputs": [],
   "source": [
    "extract_frames(file_list_mts[:-1], 160, frames_dir)"
   ]
  },
  {
   "cell_type": "code",
   "execution_count": null,
   "id": "998ae9c5-0a63-483a-b5bd-14858b4557ea",
   "metadata": {
    "scrolled": true
   },
   "outputs": [],
   "source": [
    "extract_frames([file_list_mts[-1]] + file_list_mp4 , 80, frames_dir)"
   ]
  },
  {
   "cell_type": "markdown",
   "id": "6206efac",
   "metadata": {},
   "source": [
    "## View sampled frames"
   ]
  },
  {
   "cell_type": "code",
   "execution_count": 21,
   "id": "8c84fea8",
   "metadata": {},
   "outputs": [],
   "source": [
    "# | hide\n",
    "import nbdev  # noqa\n",
    "\n",
    "nbdev.nbdev_export()"
   ]
  },
  {
   "cell_type": "code",
   "execution_count": null,
   "id": "fc836c75-42a2-4ab1-acac-85a89448bf5c",
   "metadata": {},
   "outputs": [],
   "source": []
  }
 ],
 "metadata": {
  "kernelspec": {
   "display_name": "Python 3 (ipykernel)",
   "language": "python",
   "name": "python3"
  },
  "language_info": {
   "codemirror_mode": {
    "name": "ipython",
    "version": 3
   },
   "file_extension": ".py",
   "mimetype": "text/x-python",
   "name": "python",
   "nbconvert_exporter": "python",
   "pygments_lexer": "ipython3",
   "version": "3.11.11"
  }
 },
 "nbformat": 4,
 "nbformat_minor": 5
}
