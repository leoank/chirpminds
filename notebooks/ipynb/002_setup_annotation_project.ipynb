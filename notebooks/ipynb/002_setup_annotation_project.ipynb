{
 "cells": [
  {
   "cell_type": "markdown",
   "id": "8bd0a74a",
   "metadata": {},
   "source": [
    "# Setup labelstudio project for annotation"
   ]
  },
  {
   "cell_type": "code",
   "execution_count": 1,
   "id": "53116767",
   "metadata": {},
   "outputs": [],
   "source": [
    "# | default_exp labelstudio/project"
   ]
  },
  {
   "cell_type": "code",
   "execution_count": 2,
   "id": "b3eee2e4",
   "metadata": {},
   "outputs": [],
   "source": [
    "# | export\n",
    "\n",
    "from pathlib import Path\n",
    "\n",
    "import numpy as np\n",
    "import supervision as sv\n",
    "from label_studio_sdk.client import LabelStudio\n",
    "from label_studio_sdk.converter.brush import decode_rle\n",
    "from label_studio_sdk.types import Task\n",
    "from supervision import Detections\n",
    "from tqdm import tqdm\n",
    "\n",
    "from chirpminds.utils import parallel"
   ]
  },
  {
   "cell_type": "markdown",
   "id": "99bab691",
   "metadata": {
    "lines_to_next_cell": 2
   },
   "source": [
    "## Setup labelstudio client"
   ]
  },
  {
   "cell_type": "code",
   "execution_count": 3,
   "id": "905676fc",
   "metadata": {},
   "outputs": [],
   "source": [
    "# | export\n",
    "def setup_project(\n",
    "    client: LabelStudio,\n",
    "    project_title: str,\n",
    "    labels: list[str],\n",
    "    frames_path: Path,\n",
    "    model_url: str = \"http://localhost:9090\",\n",
    "    img_ext: str = \"jpg\",\n",
    "):\n",
    "    # setup labels\n",
    "    colors = [\"#ffbe0b\", \"#fb5607\", \"#ff006e\", \"#8338ec\", \"#3a86ff\"]\n",
    "    annotation_labels = \"\\n\".join(\n",
    "        [\n",
    "            f'<Label value=\"{label}\" background=\"{colors[i]}\"/>'\n",
    "            for i, label in enumerate(labels)\n",
    "        ]\n",
    "    )\n",
    "\n",
    "    label_config = f\"\"\"\n",
    "    <View>\n",
    "        <Image name=\"img\" value=\"$image\" zoom=\"true\" width=\"100%\" maxWidth=\"800\" brightnessControl=\"true\" contrastControl=\"true\" gammaControl=\"true\" />\n",
    "        <Hypertext name=\"brush\" className=\"help\">\n",
    "          <span> BrushLabels for manual labelling </span>\n",
    "         </Hypertext>\n",
    "        <BrushLabels name=\"label\" toName=\"img\" opacity=\"0.6\">\n",
    "            {annotation_labels}\n",
    "        </BrushLabels>\n",
    "        <Hypertext name=\"keypoints\" className=\"help\">\n",
    "          <span> Keypoints for auto labelling </span>\n",
    "         </Hypertext>\n",
    "        <KeyPointLabels name=\"tag2\" toName=\"img\" smart=\"true\">\n",
    "            {annotation_labels}\n",
    "        </KeyPointLabels>\n",
    "    </View>\"\"\"\n",
    "\n",
    "    # create project\n",
    "    project = client.projects.create(\n",
    "        title=project_title, description=\"Video annotation\", label_config=label_config\n",
    "    )\n",
    "\n",
    "    # add storage\n",
    "    storage = client.import_storage.local.create(\n",
    "        title=f\"{project_title} storage\",\n",
    "        description=\"Storage for annoataion task.\",\n",
    "        project=project.id,\n",
    "        regex_filter=f\".*{img_ext}\",\n",
    "        use_blob_urls=True,\n",
    "        path=str(frames_path.resolve()),\n",
    "    )\n",
    "\n",
    "    # Sync storage\n",
    "    client.import_storage.local.sync(id=storage.id)\n",
    "\n",
    "    # Add ml model for interactive predictions\n",
    "    client.ml.create(\n",
    "        title=f\"{project_title}_ml_model\",\n",
    "        description=\"Interactive annoataion\",\n",
    "        url=model_url,\n",
    "        project=project.id,\n",
    "        is_interactive=True,\n",
    "    )\n",
    "\n",
    "    return project"
   ]
  },
  {
   "cell_type": "markdown",
   "id": "e6f2ca37-1be1-422d-9727-22b988448cdf",
   "metadata": {},
   "source": [
    "## Setting up labels\n",
    "\n",
    "bcch\n",
    "antenna\n",
    "\n",
    "During annotation, use the region merge feature to create this category\n",
    "bcch_on_antenna\n",
    "\n",
    "Apply this label to bird region by copying bird region\n",
    "bcch_off_antenna"
   ]
  },
  {
   "cell_type": "code",
   "execution_count": 4,
   "id": "fccd5316",
   "metadata": {
    "lines_to_next_cell": 2
   },
   "outputs": [],
   "source": [
    "api_key = \"b0429a22dacfad6c4fe937b8d9ddcf7b8dce7de7\"\n",
    "base_url = \"http://karkinos:8080\"\n",
    "model_url = \"http://10.13.84.1:9090\"\n",
    "labels = [\"bcch\", \"antenna\", \"bcch_on_aantenna\", \"bcch_off_antenna\"]\n",
    "# Path inside the container\n",
    "frames_path = Path(\"/datastore/frames\")\n",
    "client = LabelStudio(api_key=api_key, base_url=base_url)"
   ]
  },
  {
   "cell_type": "code",
   "execution_count": 8,
   "id": "16180339-dc9f-4b55-8317-89081b8a2f18",
   "metadata": {},
   "outputs": [],
   "source": [
    "project = setup_project(\n",
    "    client, \"Annoate chickadee variety\", labels, frames_path, model_url\n",
    ")"
   ]
  },
  {
   "cell_type": "code",
   "execution_count": 9,
   "id": "b88f9b00",
   "metadata": {
    "scrolled": true
   },
   "outputs": [
    {
     "data": {
      "text/plain": [
       "SyncPagerExt(has_next=True, items=[Project(id=10, title='Annoate chickadee variety', description='Video annotation', label_config='<View>\\n        <Image name=\"img\" value=\"$image\" zoom=\"true\" width=\"100%\" maxWidth=\"800\" brightnessControl=\"true\" contrastControl=\"true\" gammaControl=\"true\" />\\n        <Hypertext name=\"brush\" className=\"help\">\\n          <span> BrushLabels for manual labelling </span>\\n         </Hypertext>\\n        <BrushLabels name=\"label\" toName=\"img\" opacity=\"0.6\">\\n            <Label value=\"bcch\" background=\"#ffbe0b\"/>\\n<Label value=\"antenna\" background=\"#fb5607\"/>\\n<Label value=\"bcch_on_aantenna\" background=\"#ff006e\"/>\\n<Label value=\"bcch_off_antenna\" background=\"#8338ec\"/>\\n        </BrushLabels>\\n        <Hypertext name=\"keypoints\" className=\"help\">\\n          <span> Keypoints for auto labelling </span>\\n         </Hypertext>\\n        <KeyPointLabels name=\"tag2\" toName=\"img\" smart=\"true\">\\n            <Label value=\"bcch\" background=\"#ffbe0b\"/>\\n<Label value=\"antenna\" background=\"#fb5607\"/>\\n<Label value=\"bcch_on_aantenna\" background=\"#ff006e\"/>\\n<Label value=\"bcch_off_antenna\" background=\"#8338ec\"/>\\n        </KeyPointLabels>\\n    </View>', expert_instruction='', show_instruction=False, show_skip_button=True, enable_empty_annotation=True, show_annotation_history=False, organization=1, prompts=None, color='#FFFFFF', maximum_annotations=1, annotation_limit_count=None, annotation_limit_percent=None, is_published=False, model_version='Annoate chickadee variety_ml_model', is_draft=False, created_by=UserSimple(id=1, first_name='', last_name='', email='anotest@example.com', avatar=None), created_at=datetime.datetime(2025, 5, 5, 21, 13, 43, 403139, tzinfo=TzInfo(UTC)), min_annotations_to_start_training=0, start_training_on_annotation_update=False, show_collab_predictions=True, num_tasks_with_annotations=0, task_number=774, useful_annotation_number=0, ground_truth_number=0, skipped_annotations_number=0, total_annotations_number=0, total_predictions_number=0, sampling='Sequential sampling', show_ground_truth_first=False, show_overlap_first=False, overlap_cohort_percentage=100, task_data_login=None, task_data_password=None, control_weights={'label': {'overall': 1.0, 'type': 'BrushLabels', 'labels': {'bcch': 1.0, 'antenna': 1.0, 'bcch_on_aantenna': 1.0, 'bcch_off_antenna': 1.0}}, 'tag2': {'overall': 1.0, 'type': 'KeyPointLabels', 'labels': {'bcch': 1.0, 'antenna': 1.0, 'bcch_on_aantenna': 1.0, 'bcch_off_antenna': 1.0}}}, parsed_label_config={'label': {'type': 'BrushLabels', 'to_name': ['img'], 'inputs': [{'type': 'Image', 'valueType': None, 'value': 'image'}], 'labels': ['bcch', 'antenna', 'bcch_on_aantenna', 'bcch_off_antenna'], 'labels_attrs': {'bcch': {'value': 'bcch', 'background': '#ffbe0b'}, 'antenna': {'value': 'antenna', 'background': '#fb5607'}, 'bcch_on_aantenna': {'value': 'bcch_on_aantenna', 'background': '#ff006e'}, 'bcch_off_antenna': {'value': 'bcch_off_antenna', 'background': '#8338ec'}}}, 'tag2': {'type': 'KeyPointLabels', 'to_name': ['img'], 'inputs': [{'type': 'Image', 'valueType': None, 'value': 'image'}], 'labels': ['bcch', 'antenna', 'bcch_on_aantenna', 'bcch_off_antenna'], 'labels_attrs': {'bcch': {'value': 'bcch', 'background': '#ffbe0b'}, 'antenna': {'value': 'antenna', 'background': '#fb5607'}, 'bcch_on_aantenna': {'value': 'bcch_on_aantenna', 'background': '#ff006e'}, 'bcch_off_antenna': {'value': 'bcch_off_antenna', 'background': '#8338ec'}}}}, evaluate_predictions_automatically=False, config_has_control_tags=True, skip_queue='REQUEUE_FOR_OTHERS', reveal_preannotations_interactively=False, pinned_at=None, finished_task_number=0, queue_total=774, queue_done=0)], get_next=<function ProjectsClient.list.<locals>.<lambda> at 0x7fdff5dc3ec0>)"
      ]
     },
     "execution_count": 9,
     "metadata": {},
     "output_type": "execute_result"
    }
   ],
   "source": [
    "client.projects.list()"
   ]
  },
  {
   "cell_type": "code",
   "execution_count": 6,
   "id": "46ebd134-707b-474f-8308-bab7819dd3be",
   "metadata": {},
   "outputs": [],
   "source": [
    "client.projects.delete(9)"
   ]
  },
  {
   "cell_type": "markdown",
   "id": "70e0d695",
   "metadata": {},
   "source": [
    "## Get annotations back from labelstudio"
   ]
  },
  {
   "cell_type": "code",
   "execution_count": 4,
   "id": "d46ccc77-715e-4df5-8230-1c7a6f2a11ab",
   "metadata": {
    "scrolled": true
   },
   "outputs": [
    {
     "data": {
      "text/html": [
       "\n",
       "        <iframe\n",
       "            width=\"1200\"\n",
       "            height=\"700\"\n",
       "            src=\"http://karkinos:8080\"\n",
       "            frameborder=\"0\"\n",
       "            allowfullscreen\n",
       "            \n",
       "        ></iframe>\n",
       "        "
      ],
      "text/plain": [
       "<IPython.lib.display.IFrame at 0x7f0d89f6b6d0>"
      ]
     },
     "execution_count": 4,
     "metadata": {},
     "output_type": "execute_result"
    }
   ],
   "source": [
    "from IPython.display import IFrame\n",
    "\n",
    "IFrame(\"http://karkinos:8080\", width=1200, height=700)"
   ]
  },
  {
   "cell_type": "code",
   "execution_count": null,
   "id": "96a465c4",
   "metadata": {},
   "outputs": [],
   "source": [
    "def write_detection_yolo(detection: Detections, out_path: Path) -> None:\n",
    "    pass"
   ]
  },
  {
   "cell_type": "code",
   "execution_count": null,
   "id": "a6852c9a",
   "metadata": {},
   "outputs": [],
   "source": [
    "def extract_task_annotation(\n",
    "    task_list: list[Task], labels: list[str], out_path: Path, job_idx: int = 0\n",
    "):\n",
    "    label_map = {k: i for i, k in enumerate(labels)}\n",
    "    label_map_inv = {v: k for k, v in label_map.items()}\n",
    "    for task in tqdm(task_list, position=job_idx):\n",
    "        assert task.annotations is not None\n",
    "        if len(task.annotations) == 0:\n",
    "            break\n",
    "        else:\n",
    "            print(\"generating masks\")\n",
    "            dets = []\n",
    "            for anno in task.annotations:\n",
    "                assert anno[\"result\"] is not None\n",
    "                for res in anno[\"result\"]:\n",
    "                    mask = decode_rle(res[\"value\"][\"rle\"])\n",
    "                    mask = np.reshape(mask, [1080, 1920, 4])[:, :, 3]\n",
    "                    mask = mask / 255\n",
    "                    mask = mask.astype(bool)\n",
    "                    mask = t.tensor(np.array([mask]))\n",
    "                    labels = t.tensor(np.array([0]))\n",
    "                    scores = t.tensor(np.array([1]))\n",
    "                    det = sv.Detections.from_transformers(\n",
    "                        {\"scores\": scores, \"labels\": labels, \"masks\": mask},\n",
    "                        {0: \"cbird_on_antenna\"},\n",
    "                    )\n",
    "                    dets.append(det)\n",
    "            detections = sv.Detections.merge(dets)"
   ]
  },
  {
   "cell_type": "code",
   "execution_count": null,
   "id": "b133c869",
   "metadata": {},
   "outputs": [],
   "source": [
    "def extract_annotations(client: LabelStudio, project_id: int, out_path: Path) -> None:\n",
    "    # Get project\n",
    "    project = client.projects.get(id=project_id)\n",
    "\n",
    "    # Get task\n",
    "    task_pager = client.tasks.list(project=project.id)\n",
    "    task_list: list[Task] = [task for task in task_pager]\n",
    "\n",
    "    # Exrtact in parallel\n",
    "    parallel(task_list, extract_task_annotation, [out_path])"
   ]
  },
  {
   "cell_type": "code",
   "execution_count": 4,
   "id": "75efd964-a5df-484c-9909-c35efcb63109",
   "metadata": {},
   "outputs": [],
   "source": [
    "# | hide\n",
    "import nbdev  # noqa\n",
    "\n",
    "nbdev.nbdev_export()"
   ]
  },
  {
   "cell_type": "code",
   "execution_count": null,
   "id": "5693ec84-2136-4197-9fd4-d6e88b34103c",
   "metadata": {},
   "outputs": [],
   "source": []
  }
 ],
 "metadata": {
  "kernelspec": {
   "display_name": "Python 3 (ipykernel)",
   "language": "python",
   "name": "python3"
  },
  "language_info": {
   "codemirror_mode": {
    "name": "ipython",
    "version": 3
   },
   "file_extension": ".py",
   "mimetype": "text/x-python",
   "name": "python",
   "nbconvert_exporter": "python",
   "pygments_lexer": "ipython3",
   "version": "3.11.11"
  }
 },
 "nbformat": 4,
 "nbformat_minor": 5
}
