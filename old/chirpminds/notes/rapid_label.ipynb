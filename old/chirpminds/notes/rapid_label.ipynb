{
 "cells": [
  {
   "cell_type": "code",
   "execution_count": 1,
   "id": "c10b7b13-51fb-4e87-9f4a-263f486f7ff2",
   "metadata": {},
   "outputs": [],
   "source": [
    "from pathlib import Path\n",
    "import fiftyone as fo"
   ]
  },
  {
   "cell_type": "code",
   "execution_count": 2,
   "id": "f2645a4e-fe52-4ce3-9cd5-2d4c7ae9059a",
   "metadata": {},
   "outputs": [],
   "source": [
    "dataset_root_path = Path().resolve().parents[1].joinpath(\"data/dataset/cbird001\")\n",
    "cbird_train_path = dataset_root_path.joinpath(\"train/images\")\n",
    "cbird_valid_path = dataset_root_path.joinpath(\"valid/images\")"
   ]
  },
  {
   "cell_type": "code",
   "execution_count": 3,
   "id": "c71b716d-2342-422c-949e-32b7ee5bd37a",
   "metadata": {},
   "outputs": [
    {
     "data": {
      "text/plain": [
       "'/home/ank/workspace/hub/leoank/chirpminds/data/dataset/cbird001/train/images/*.jpg'"
      ]
     },
     "execution_count": 3,
     "metadata": {},
     "output_type": "execute_result"
    }
   ],
   "source": [
    "cbird_train_path.__str__() + \"/*.jpg\""
   ]
  },
  {
   "cell_type": "code",
   "execution_count": 4,
   "id": "54cb8347-3cc0-4b70-8ff9-b4eb60e9869d",
   "metadata": {},
   "outputs": [
    {
     "name": "stdout",
     "output_type": "stream",
     "text": []
    },
    {
     "name": "stdout",
     "output_type": "stream",
     "text": [
      " 100% |█████████████████| 400/400 [34.9ms elapsed, 0s remaining, 11.5K samples/s]  \n",
      " 100% |█████████████████| 100/100 [13.3ms elapsed, 0s remaining, 7.5K samples/s]      \n"
     ]
    }
   ],
   "source": [
    "cbird_train_fo = fo.Dataset.from_images_patt(cbird_train_path.__str__() + \"/*.jpg\")\n",
    "cbird_valid_fo = fo.Dataset.from_images_patt(cbird_valid_path.__str__() + \"/*.jpg\")"
   ]
  },
  {
   "cell_type": "code",
   "execution_count": 5,
   "id": "57f6fe4f-2f35-45fb-abef-4cde5756ae72",
   "metadata": {
    "scrolled": true
   },
   "outputs": [
    {
     "data": {
      "text/html": [
       "\n",
       "        <iframe\n",
       "            width=\"100%\"\n",
       "            height=\"800\"\n",
       "            src=\"http://0.0.0.0:5151/?notebook=True&subscription=1c2359c9-86f4-4cf6-947e-bbf4abcc577a\"\n",
       "            frameborder=\"0\"\n",
       "            allowfullscreen\n",
       "            \n",
       "        ></iframe>\n",
       "        "
      ],
      "text/plain": [
       "<IPython.lib.display.IFrame at 0x7f33b9532c50>"
      ]
     },
     "metadata": {},
     "output_type": "display_data"
    }
   ],
   "source": [
    "train_sess = fo.launch_app(cbird_train_fo, port=5151, address=\"0.0.0.0\")"
   ]
  },
  {
   "cell_type": "code",
   "execution_count": 6,
   "id": "285f7b1f-ff1f-471b-9587-0243f9aaa298",
   "metadata": {},
   "outputs": [
    {
     "data": {
      "text/html": [
       "\n",
       "        <iframe\n",
       "            width=\"1500\"\n",
       "            height=\"800\"\n",
       "            src=\"http://karkinos:5151\"\n",
       "            frameborder=\"0\"\n",
       "            allowfullscreen\n",
       "            \n",
       "        ></iframe>\n",
       "        "
      ],
      "text/plain": [
       "<IPython.lib.display.IFrame at 0x7f33b7f70fd0>"
      ]
     },
     "execution_count": 6,
     "metadata": {},
     "output_type": "execute_result"
    }
   ],
   "source": [
    "from IPython.display import IFrame\n",
    "IFrame(src=\"http://karkinos:5151\", width=1500, height=800)"
   ]
  },
  {
   "cell_type": "code",
   "execution_count": 7,
   "id": "c48a5dd2-4274-4a15-81d6-5f5edc7aac9c",
   "metadata": {},
   "outputs": [],
   "source": [
    "# tag samples\n",
    "for sample in cbird_train_fo:\n",
    "    sample.tags.append(\"train\")\n",
    "    sample.save()\n",
    "\n",
    "for sample in cbird_valid_fo:\n",
    "    sample.tags.append(\"valid\")\n",
    "    sample.save()"
   ]
  },
  {
   "cell_type": "code",
   "execution_count": 8,
   "id": "eedd14e1-05c5-444e-a0d9-78403d832c97",
   "metadata": {},
   "outputs": [],
   "source": [
    "# add dummy annotations\n",
    "for sample in cbird_train_fo:\n",
    "    sample[\"ground_truth\"] = fo.Detections()\n",
    "    sample.save()\n",
    "for sample in cbird_valid_fo:\n",
    "    sample[\"ground_truth\"] = fo.Detections()\n",
    "    sample.save()"
   ]
  },
  {
   "cell_type": "code",
   "execution_count": 9,
   "id": "3b62fab9-df7d-4ea2-a751-974a4501e4c5",
   "metadata": {},
   "outputs": [],
   "source": [
    "# setup labelstudio params\n",
    "label_studio_key = \"6b6776e528d90bfad8ee5d645066f2cebaa2f57d\"\n",
    "anno_key = \"cbird_train_001\"\n",
    "label_schema = {\n",
    "    \"ground_truth\": {\n",
    "        \"type\": \"instances\",\n",
    "        \"classes\": [\"cbird_on_antenna\"]\n",
    "    },\n",
    "    \"anohelper\": {\n",
    "        \"type\": \"keypoints\",\n",
    "        \"classes\": [\"cbird_on_antenna\"]\n",
    "    },\n",
    "}"
   ]
  },
  {
   "cell_type": "code",
   "execution_count": 10,
   "id": "7c1cfc81-39b8-4a88-ae2f-5c160bc1515d",
   "metadata": {},
   "outputs": [
    {
     "name": "stdout",
     "output_type": "stream",
     "text": [
      "The backend 'labelstudio' does not support attributes. Provided attributes will be ignored.\n",
      "The backend 'labelstudio' does not support attributes. Provided attributes will be ignored.\n",
      "Uploading media to Label Studio...\n",
      "Computing metadata...\n",
      " 100% |█████████████████| 400/400 [107.7ms elapsed, 0s remaining, 3.7K samples/s] \n",
      "Upload complete\n"
     ]
    },
    {
     "data": {
      "text/plain": [
       "<fiftyone.utils.labelstudio.LabelStudioAnnotationResults at 0x7f3397756310>"
      ]
     },
     "execution_count": 10,
     "metadata": {},
     "output_type": "execute_result"
    }
   ],
   "source": [
    "cbird_train_fo.annotate(anno_key, backend=\"labelstudio\", label_schema=label_schema, api_key=label_studio_key, url=\"http://localhost:8080\")"
   ]
  },
  {
   "cell_type": "code",
   "execution_count": 11,
   "id": "ae869cfa-34a2-4364-9951-a15e48fbe7dd",
   "metadata": {},
   "outputs": [
    {
     "data": {
      "text/plain": [
       "{\n",
       "    \"key\": \"cbird_train_001\",\n",
       "    \"version\": \"1.2.0\",\n",
       "    \"timestamp\": \"2025-01-20T18:22:55.388604\",\n",
       "    \"config\": {\n",
       "        \"cls\": \"fiftyone.utils.labelstudio.LabelStudioBackendConfig\",\n",
       "        \"type\": \"annotation\",\n",
       "        \"method\": \"labelstudio\",\n",
       "        \"name\": \"labelstudio\",\n",
       "        \"label_schema\": {\n",
       "            \"ground_truth\": {\n",
       "                \"type\": \"instances\",\n",
       "                \"classes\": [\n",
       "                    \"cbird_on_antenna\"\n",
       "                ],\n",
       "                \"attributes\": {},\n",
       "                \"existing_field\": true,\n",
       "                \"allow_additions\": true,\n",
       "                \"allow_deletions\": true,\n",
       "                \"allow_label_edits\": true,\n",
       "                \"allow_spatial_edits\": true\n",
       "            },\n",
       "            \"anohelper\": {\n",
       "                \"type\": \"keypoints\",\n",
       "                \"classes\": [\n",
       "                    \"cbird_on_antenna\"\n",
       "                ],\n",
       "                \"attributes\": {},\n",
       "                \"existing_field\": false\n",
       "            }\n",
       "        },\n",
       "        \"media_field\": \"filepath\",\n",
       "        \"url\": \"http://localhost:8080\",\n",
       "        \"project_name\": null\n",
       "    }\n",
       "}"
      ]
     },
     "execution_count": 11,
     "metadata": {},
     "output_type": "execute_result"
    }
   ],
   "source": [
    "cbird_train_fo.get_annotation_info(anno_key)"
   ]
  },
  {
   "cell_type": "code",
   "execution_count": 13,
   "id": "0280b514-ab37-4257-9988-1b9e78ac5098",
   "metadata": {},
   "outputs": [
    {
     "data": {
      "text/html": [
       "\n",
       "        <iframe\n",
       "            width=\"100%\"\n",
       "            height=\"800\"\n",
       "            src=\"http://0.0.0.0:5151/?notebook=True&subscription=17bcc191-c0cc-45d3-8c9c-dde1d36e2804\"\n",
       "            frameborder=\"0\"\n",
       "            allowfullscreen\n",
       "            \n",
       "        ></iframe>\n",
       "        "
      ],
      "text/plain": [
       "<IPython.lib.display.IFrame at 0x7f30c4c86e50>"
      ]
     },
     "metadata": {},
     "output_type": "display_data"
    }
   ],
   "source": [
    "train_sess.view = cbird_train_fo_001"
   ]
  },
  {
   "cell_type": "code",
   "execution_count": 12,
   "id": "aa4895e4-8b5e-4f2f-bd63-6fcb1d19d541",
   "metadata": {},
   "outputs": [
    {
     "name": "stdout",
     "output_type": "stream",
     "text": [
      "Downloading labels from Label Studio...\n",
      "Download complete\n",
      "Loading labels for field 'ground_truth'...\n",
      " 100% |█████████████████████| 0/0 [1.0ms elapsed, ? remaining, ? samples/s] \n",
      "Loading labels for field 'anohelper'...\n",
      " 100% |█████████████████████| 0/0 [701.2us elapsed, ? remaining, ? samples/s] \n"
     ]
    }
   ],
   "source": [
    "cbird_train_fo.load_annotations(anno_key)"
   ]
  },
  {
   "cell_type": "code",
   "execution_count": 15,
   "id": "ff026889-d4da-4af2-9a8b-bbcd26b2d58b",
   "metadata": {},
   "outputs": [
    {
     "name": "stdout",
     "output_type": "stream",
     "text": [
      "Directory '/home/ank/workspace/hub/leoank/chirpminds/data/dataset/cbird001/train/images' already exists; export will be merged with existing files\n",
      " 100% |█████████████████| 400/400 [257.9ms elapsed, 0s remaining, 1.6K samples/s]      \n"
     ]
    }
   ],
   "source": [
    "cbird_train_fo.export(export_dir=cbird_train_path.__str__(), dataset_type=fo.types.YOLOv5Dataset, label_field=\"ground_truth\", split=\"val\", classes=[\"cbird_on_antenna\"])"
   ]
  },
  {
   "cell_type": "code",
   "execution_count": null,
   "id": "c68a763f-0b9f-419e-b8b1-4eba1959201f",
   "metadata": {},
   "outputs": [],
   "source": []
  }
 ],
 "metadata": {
  "kernelspec": {
   "display_name": "Python 3 (ipykernel)",
   "language": "python",
   "name": "python3"
  },
  "language_info": {
   "codemirror_mode": {
    "name": "ipython",
    "version": 3
   },
   "file_extension": ".py",
   "mimetype": "text/x-python",
   "name": "python",
   "nbconvert_exporter": "python",
   "pygments_lexer": "ipython3",
   "version": "3.11.9"
  }
 },
 "nbformat": 4,
 "nbformat_minor": 5
}
